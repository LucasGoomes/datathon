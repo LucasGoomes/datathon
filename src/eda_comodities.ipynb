{
  "nbformat": 4,
  "nbformat_minor": 0,
  "metadata": {
    "colab": {
      "provenance": []
    },
    "kernelspec": {
      "name": "python3",
      "display_name": "Python 3"
    },
    "language_info": {
      "name": "python"
    }
  },
  "cells": [
    {
      "cell_type": "markdown",
      "source": [
        "#Analise do Dataset \"Crop Production & Climate Change\" link: https://www.kaggle.com/datasets/thedevastator/the-relationship-between-crop-production-and-cli"
      ],
      "metadata": {
        "id": "VkNba7yXlN04"
      }
    },
    {
      "cell_type": "markdown",
      "source": [
        "O DS possue dados da produção de arroz, soja, milho e trigo de diversos países,oq quais são apresentados em toneladas por hectare, em milhares de hectares e em milhares de toneladas."
      ],
      "metadata": {
        "id": "0cyWaywAluzP"
      }
    },
    {
      "cell_type": "code",
      "execution_count": 41,
      "metadata": {
        "id": "O8_6FKGkTR_h"
      },
      "outputs": [],
      "source": [
        "# Importa as bibliotécas\n",
        "import pandas as pd\n",
        "import matplotlib.pyplot as plt"
      ]
    },
    {
      "cell_type": "code",
      "source": [
        "#Cria o Data Frame\n",
        "df = pd.read_csv(\"crop_production.csv\")"
      ],
      "metadata": {
        "id": "q-Zq9BDHTVR5"
      },
      "execution_count": 42,
      "outputs": []
    },
    {
      "cell_type": "code",
      "source": [
        "#Verificação do DF\n",
        "display(df)\n",
        "print(df.describe())"
      ],
      "metadata": {
        "colab": {
          "base_uri": "https://localhost:8080/",
          "height": 579
        },
        "id": "FveGQtDZTZzy",
        "outputId": "482d4e2d-c45c-4e84-ecec-ca1b6552c42d"
      },
      "execution_count": 43,
      "outputs": [
        {
          "output_type": "display_data",
          "data": {
            "text/plain": [
              "       index LOCATION  INDICATOR  SUBJECT   MEASURE FREQUENCY  TIME  \\\n",
              "0          0      AUS  CROPYIELD     RICE  TONNE_HA         A  1990   \n",
              "1          1      AUS  CROPYIELD     RICE  TONNE_HA         A  1991   \n",
              "2          2      AUS  CROPYIELD     RICE  TONNE_HA         A  1992   \n",
              "3          3      AUS  CROPYIELD     RICE  TONNE_HA         A  1993   \n",
              "4          4      AUS  CROPYIELD     RICE  TONNE_HA         A  1994   \n",
              "...      ...      ...        ...      ...       ...       ...   ...   \n",
              "20561  20561     OECD  CROPYIELD  SOYBEAN   THND_HA         A  2021   \n",
              "20562  20562     OECD  CROPYIELD  SOYBEAN   THND_HA         A  2022   \n",
              "20563  20563     OECD  CROPYIELD  SOYBEAN   THND_HA         A  2023   \n",
              "20564  20564     OECD  CROPYIELD  SOYBEAN   THND_HA         A  2024   \n",
              "20565  20565     OECD  CROPYIELD  SOYBEAN   THND_HA         A  2025   \n",
              "\n",
              "              Value  Flag Codes  \n",
              "0          8.314607         NaN  \n",
              "1          8.394737         NaN  \n",
              "2          8.094340         NaN  \n",
              "3          8.336000         NaN  \n",
              "4          8.537815         NaN  \n",
              "...             ...         ...  \n",
              "20561  37010.208830         NaN  \n",
              "20562  37069.214850         NaN  \n",
              "20563  37143.459750         NaN  \n",
              "20564  37013.651900         NaN  \n",
              "20565  37041.401580         NaN  \n",
              "\n",
              "[20566 rows x 9 columns]"
            ],
            "text/html": [
              "\n",
              "  <div id=\"df-c7813981-3137-4791-a454-923d360e27c9\" class=\"colab-df-container\">\n",
              "    <div>\n",
              "<style scoped>\n",
              "    .dataframe tbody tr th:only-of-type {\n",
              "        vertical-align: middle;\n",
              "    }\n",
              "\n",
              "    .dataframe tbody tr th {\n",
              "        vertical-align: top;\n",
              "    }\n",
              "\n",
              "    .dataframe thead th {\n",
              "        text-align: right;\n",
              "    }\n",
              "</style>\n",
              "<table border=\"1\" class=\"dataframe\">\n",
              "  <thead>\n",
              "    <tr style=\"text-align: right;\">\n",
              "      <th></th>\n",
              "      <th>index</th>\n",
              "      <th>LOCATION</th>\n",
              "      <th>INDICATOR</th>\n",
              "      <th>SUBJECT</th>\n",
              "      <th>MEASURE</th>\n",
              "      <th>FREQUENCY</th>\n",
              "      <th>TIME</th>\n",
              "      <th>Value</th>\n",
              "      <th>Flag Codes</th>\n",
              "    </tr>\n",
              "  </thead>\n",
              "  <tbody>\n",
              "    <tr>\n",
              "      <th>0</th>\n",
              "      <td>0</td>\n",
              "      <td>AUS</td>\n",
              "      <td>CROPYIELD</td>\n",
              "      <td>RICE</td>\n",
              "      <td>TONNE_HA</td>\n",
              "      <td>A</td>\n",
              "      <td>1990</td>\n",
              "      <td>8.314607</td>\n",
              "      <td>NaN</td>\n",
              "    </tr>\n",
              "    <tr>\n",
              "      <th>1</th>\n",
              "      <td>1</td>\n",
              "      <td>AUS</td>\n",
              "      <td>CROPYIELD</td>\n",
              "      <td>RICE</td>\n",
              "      <td>TONNE_HA</td>\n",
              "      <td>A</td>\n",
              "      <td>1991</td>\n",
              "      <td>8.394737</td>\n",
              "      <td>NaN</td>\n",
              "    </tr>\n",
              "    <tr>\n",
              "      <th>2</th>\n",
              "      <td>2</td>\n",
              "      <td>AUS</td>\n",
              "      <td>CROPYIELD</td>\n",
              "      <td>RICE</td>\n",
              "      <td>TONNE_HA</td>\n",
              "      <td>A</td>\n",
              "      <td>1992</td>\n",
              "      <td>8.094340</td>\n",
              "      <td>NaN</td>\n",
              "    </tr>\n",
              "    <tr>\n",
              "      <th>3</th>\n",
              "      <td>3</td>\n",
              "      <td>AUS</td>\n",
              "      <td>CROPYIELD</td>\n",
              "      <td>RICE</td>\n",
              "      <td>TONNE_HA</td>\n",
              "      <td>A</td>\n",
              "      <td>1993</td>\n",
              "      <td>8.336000</td>\n",
              "      <td>NaN</td>\n",
              "    </tr>\n",
              "    <tr>\n",
              "      <th>4</th>\n",
              "      <td>4</td>\n",
              "      <td>AUS</td>\n",
              "      <td>CROPYIELD</td>\n",
              "      <td>RICE</td>\n",
              "      <td>TONNE_HA</td>\n",
              "      <td>A</td>\n",
              "      <td>1994</td>\n",
              "      <td>8.537815</td>\n",
              "      <td>NaN</td>\n",
              "    </tr>\n",
              "    <tr>\n",
              "      <th>...</th>\n",
              "      <td>...</td>\n",
              "      <td>...</td>\n",
              "      <td>...</td>\n",
              "      <td>...</td>\n",
              "      <td>...</td>\n",
              "      <td>...</td>\n",
              "      <td>...</td>\n",
              "      <td>...</td>\n",
              "      <td>...</td>\n",
              "    </tr>\n",
              "    <tr>\n",
              "      <th>20561</th>\n",
              "      <td>20561</td>\n",
              "      <td>OECD</td>\n",
              "      <td>CROPYIELD</td>\n",
              "      <td>SOYBEAN</td>\n",
              "      <td>THND_HA</td>\n",
              "      <td>A</td>\n",
              "      <td>2021</td>\n",
              "      <td>37010.208830</td>\n",
              "      <td>NaN</td>\n",
              "    </tr>\n",
              "    <tr>\n",
              "      <th>20562</th>\n",
              "      <td>20562</td>\n",
              "      <td>OECD</td>\n",
              "      <td>CROPYIELD</td>\n",
              "      <td>SOYBEAN</td>\n",
              "      <td>THND_HA</td>\n",
              "      <td>A</td>\n",
              "      <td>2022</td>\n",
              "      <td>37069.214850</td>\n",
              "      <td>NaN</td>\n",
              "    </tr>\n",
              "    <tr>\n",
              "      <th>20563</th>\n",
              "      <td>20563</td>\n",
              "      <td>OECD</td>\n",
              "      <td>CROPYIELD</td>\n",
              "      <td>SOYBEAN</td>\n",
              "      <td>THND_HA</td>\n",
              "      <td>A</td>\n",
              "      <td>2023</td>\n",
              "      <td>37143.459750</td>\n",
              "      <td>NaN</td>\n",
              "    </tr>\n",
              "    <tr>\n",
              "      <th>20564</th>\n",
              "      <td>20564</td>\n",
              "      <td>OECD</td>\n",
              "      <td>CROPYIELD</td>\n",
              "      <td>SOYBEAN</td>\n",
              "      <td>THND_HA</td>\n",
              "      <td>A</td>\n",
              "      <td>2024</td>\n",
              "      <td>37013.651900</td>\n",
              "      <td>NaN</td>\n",
              "    </tr>\n",
              "    <tr>\n",
              "      <th>20565</th>\n",
              "      <td>20565</td>\n",
              "      <td>OECD</td>\n",
              "      <td>CROPYIELD</td>\n",
              "      <td>SOYBEAN</td>\n",
              "      <td>THND_HA</td>\n",
              "      <td>A</td>\n",
              "      <td>2025</td>\n",
              "      <td>37041.401580</td>\n",
              "      <td>NaN</td>\n",
              "    </tr>\n",
              "  </tbody>\n",
              "</table>\n",
              "<p>20566 rows × 9 columns</p>\n",
              "</div>\n",
              "    <div class=\"colab-df-buttons\">\n",
              "\n",
              "  <div class=\"colab-df-container\">\n",
              "    <button class=\"colab-df-convert\" onclick=\"convertToInteractive('df-c7813981-3137-4791-a454-923d360e27c9')\"\n",
              "            title=\"Convert this dataframe to an interactive table.\"\n",
              "            style=\"display:none;\">\n",
              "\n",
              "  <svg xmlns=\"http://www.w3.org/2000/svg\" height=\"24px\" viewBox=\"0 -960 960 960\">\n",
              "    <path d=\"M120-120v-720h720v720H120Zm60-500h600v-160H180v160Zm220 220h160v-160H400v160Zm0 220h160v-160H400v160ZM180-400h160v-160H180v160Zm440 0h160v-160H620v160ZM180-180h160v-160H180v160Zm440 0h160v-160H620v160Z\"/>\n",
              "  </svg>\n",
              "    </button>\n",
              "\n",
              "  <style>\n",
              "    .colab-df-container {\n",
              "      display:flex;\n",
              "      gap: 12px;\n",
              "    }\n",
              "\n",
              "    .colab-df-convert {\n",
              "      background-color: #E8F0FE;\n",
              "      border: none;\n",
              "      border-radius: 50%;\n",
              "      cursor: pointer;\n",
              "      display: none;\n",
              "      fill: #1967D2;\n",
              "      height: 32px;\n",
              "      padding: 0 0 0 0;\n",
              "      width: 32px;\n",
              "    }\n",
              "\n",
              "    .colab-df-convert:hover {\n",
              "      background-color: #E2EBFA;\n",
              "      box-shadow: 0px 1px 2px rgba(60, 64, 67, 0.3), 0px 1px 3px 1px rgba(60, 64, 67, 0.15);\n",
              "      fill: #174EA6;\n",
              "    }\n",
              "\n",
              "    .colab-df-buttons div {\n",
              "      margin-bottom: 4px;\n",
              "    }\n",
              "\n",
              "    [theme=dark] .colab-df-convert {\n",
              "      background-color: #3B4455;\n",
              "      fill: #D2E3FC;\n",
              "    }\n",
              "\n",
              "    [theme=dark] .colab-df-convert:hover {\n",
              "      background-color: #434B5C;\n",
              "      box-shadow: 0px 1px 3px 1px rgba(0, 0, 0, 0.15);\n",
              "      filter: drop-shadow(0px 1px 2px rgba(0, 0, 0, 0.3));\n",
              "      fill: #FFFFFF;\n",
              "    }\n",
              "  </style>\n",
              "\n",
              "    <script>\n",
              "      const buttonEl =\n",
              "        document.querySelector('#df-c7813981-3137-4791-a454-923d360e27c9 button.colab-df-convert');\n",
              "      buttonEl.style.display =\n",
              "        google.colab.kernel.accessAllowed ? 'block' : 'none';\n",
              "\n",
              "      async function convertToInteractive(key) {\n",
              "        const element = document.querySelector('#df-c7813981-3137-4791-a454-923d360e27c9');\n",
              "        const dataTable =\n",
              "          await google.colab.kernel.invokeFunction('convertToInteractive',\n",
              "                                                    [key], {});\n",
              "        if (!dataTable) return;\n",
              "\n",
              "        const docLinkHtml = 'Like what you see? Visit the ' +\n",
              "          '<a target=\"_blank\" href=https://colab.research.google.com/notebooks/data_table.ipynb>data table notebook</a>'\n",
              "          + ' to learn more about interactive tables.';\n",
              "        element.innerHTML = '';\n",
              "        dataTable['output_type'] = 'display_data';\n",
              "        await google.colab.output.renderOutput(dataTable, element);\n",
              "        const docLink = document.createElement('div');\n",
              "        docLink.innerHTML = docLinkHtml;\n",
              "        element.appendChild(docLink);\n",
              "      }\n",
              "    </script>\n",
              "  </div>\n",
              "\n",
              "\n",
              "<div id=\"df-a9eca2d9-1371-4755-a6c4-b646515740c0\">\n",
              "  <button class=\"colab-df-quickchart\" onclick=\"quickchart('df-a9eca2d9-1371-4755-a6c4-b646515740c0')\"\n",
              "            title=\"Suggest charts\"\n",
              "            style=\"display:none;\">\n",
              "\n",
              "<svg xmlns=\"http://www.w3.org/2000/svg\" height=\"24px\"viewBox=\"0 0 24 24\"\n",
              "     width=\"24px\">\n",
              "    <g>\n",
              "        <path d=\"M19 3H5c-1.1 0-2 .9-2 2v14c0 1.1.9 2 2 2h14c1.1 0 2-.9 2-2V5c0-1.1-.9-2-2-2zM9 17H7v-7h2v7zm4 0h-2V7h2v10zm4 0h-2v-4h2v4z\"/>\n",
              "    </g>\n",
              "</svg>\n",
              "  </button>\n",
              "\n",
              "<style>\n",
              "  .colab-df-quickchart {\n",
              "      --bg-color: #E8F0FE;\n",
              "      --fill-color: #1967D2;\n",
              "      --hover-bg-color: #E2EBFA;\n",
              "      --hover-fill-color: #174EA6;\n",
              "      --disabled-fill-color: #AAA;\n",
              "      --disabled-bg-color: #DDD;\n",
              "  }\n",
              "\n",
              "  [theme=dark] .colab-df-quickchart {\n",
              "      --bg-color: #3B4455;\n",
              "      --fill-color: #D2E3FC;\n",
              "      --hover-bg-color: #434B5C;\n",
              "      --hover-fill-color: #FFFFFF;\n",
              "      --disabled-bg-color: #3B4455;\n",
              "      --disabled-fill-color: #666;\n",
              "  }\n",
              "\n",
              "  .colab-df-quickchart {\n",
              "    background-color: var(--bg-color);\n",
              "    border: none;\n",
              "    border-radius: 50%;\n",
              "    cursor: pointer;\n",
              "    display: none;\n",
              "    fill: var(--fill-color);\n",
              "    height: 32px;\n",
              "    padding: 0;\n",
              "    width: 32px;\n",
              "  }\n",
              "\n",
              "  .colab-df-quickchart:hover {\n",
              "    background-color: var(--hover-bg-color);\n",
              "    box-shadow: 0 1px 2px rgba(60, 64, 67, 0.3), 0 1px 3px 1px rgba(60, 64, 67, 0.15);\n",
              "    fill: var(--button-hover-fill-color);\n",
              "  }\n",
              "\n",
              "  .colab-df-quickchart-complete:disabled,\n",
              "  .colab-df-quickchart-complete:disabled:hover {\n",
              "    background-color: var(--disabled-bg-color);\n",
              "    fill: var(--disabled-fill-color);\n",
              "    box-shadow: none;\n",
              "  }\n",
              "\n",
              "  .colab-df-spinner {\n",
              "    border: 2px solid var(--fill-color);\n",
              "    border-color: transparent;\n",
              "    border-bottom-color: var(--fill-color);\n",
              "    animation:\n",
              "      spin 1s steps(1) infinite;\n",
              "  }\n",
              "\n",
              "  @keyframes spin {\n",
              "    0% {\n",
              "      border-color: transparent;\n",
              "      border-bottom-color: var(--fill-color);\n",
              "      border-left-color: var(--fill-color);\n",
              "    }\n",
              "    20% {\n",
              "      border-color: transparent;\n",
              "      border-left-color: var(--fill-color);\n",
              "      border-top-color: var(--fill-color);\n",
              "    }\n",
              "    30% {\n",
              "      border-color: transparent;\n",
              "      border-left-color: var(--fill-color);\n",
              "      border-top-color: var(--fill-color);\n",
              "      border-right-color: var(--fill-color);\n",
              "    }\n",
              "    40% {\n",
              "      border-color: transparent;\n",
              "      border-right-color: var(--fill-color);\n",
              "      border-top-color: var(--fill-color);\n",
              "    }\n",
              "    60% {\n",
              "      border-color: transparent;\n",
              "      border-right-color: var(--fill-color);\n",
              "    }\n",
              "    80% {\n",
              "      border-color: transparent;\n",
              "      border-right-color: var(--fill-color);\n",
              "      border-bottom-color: var(--fill-color);\n",
              "    }\n",
              "    90% {\n",
              "      border-color: transparent;\n",
              "      border-bottom-color: var(--fill-color);\n",
              "    }\n",
              "  }\n",
              "</style>\n",
              "\n",
              "  <script>\n",
              "    async function quickchart(key) {\n",
              "      const quickchartButtonEl =\n",
              "        document.querySelector('#' + key + ' button');\n",
              "      quickchartButtonEl.disabled = true;  // To prevent multiple clicks.\n",
              "      quickchartButtonEl.classList.add('colab-df-spinner');\n",
              "      try {\n",
              "        const charts = await google.colab.kernel.invokeFunction(\n",
              "            'suggestCharts', [key], {});\n",
              "      } catch (error) {\n",
              "        console.error('Error during call to suggestCharts:', error);\n",
              "      }\n",
              "      quickchartButtonEl.classList.remove('colab-df-spinner');\n",
              "      quickchartButtonEl.classList.add('colab-df-quickchart-complete');\n",
              "    }\n",
              "    (() => {\n",
              "      let quickchartButtonEl =\n",
              "        document.querySelector('#df-a9eca2d9-1371-4755-a6c4-b646515740c0 button');\n",
              "      quickchartButtonEl.style.display =\n",
              "        google.colab.kernel.accessAllowed ? 'block' : 'none';\n",
              "    })();\n",
              "  </script>\n",
              "</div>\n",
              "    </div>\n",
              "  </div>\n"
            ]
          },
          "metadata": {}
        },
        {
          "output_type": "stream",
          "name": "stdout",
          "text": [
            "              index          TIME         Value  Flag Codes\n",
            "count  20566.000000  20566.000000  2.056600e+04         0.0\n",
            "mean   10282.500000   2007.591170  1.249281e+04         NaN\n",
            "std     5937.037154     10.369489  5.960529e+04         NaN\n",
            "min        0.000000   1970.000000  0.000000e+00         NaN\n",
            "25%     5141.250000   1999.000000  1.961877e+00         NaN\n",
            "50%    10282.500000   2008.000000  2.560970e+01         NaN\n",
            "75%    15423.750000   2017.000000  1.563000e+03         NaN\n",
            "max    20565.000000   2025.000000  1.146044e+06         NaN\n"
          ]
        }
      ]
    },
    {
      "cell_type": "markdown",
      "source": [
        "##Visialisação do DF"
      ],
      "metadata": {
        "id": "ozXuO4VZq1fx"
      }
    },
    {
      "cell_type": "code",
      "source": [
        "contagemSubjects = df['SUBJECT'].value_counts()\n",
        "contagemMeasure = df['MEASURE'].value_counts()\n",
        "contagemIndicador = df['INDICATOR'].value_counts()\n",
        "contagemFrequency = df['FREQUENCY'].value_counts()\n",
        "display(contagemMeasure)\n",
        "display(contagemFrequency)"
      ],
      "metadata": {
        "colab": {
          "base_uri": "https://localhost:8080/",
          "height": 121
        },
        "id": "Pmb0nnNGYJk5",
        "outputId": "76ab3a6d-6c1e-4417-9b09-32f436bdde33"
      },
      "execution_count": 38,
      "outputs": [
        {
          "output_type": "display_data",
          "data": {
            "text/plain": [
              "TONNE_HA      136\n",
              "THND_TONNE    136\n",
              "THND_HA       136\n",
              "Name: MEASURE, dtype: int64"
            ]
          },
          "metadata": {}
        },
        {
          "output_type": "display_data",
          "data": {
            "text/plain": [
              "A    408\n",
              "Name: FREQUENCY, dtype: int64"
            ]
          },
          "metadata": {}
        }
      ]
    },
    {
      "cell_type": "markdown",
      "source": [
        "##Limpando o DF"
      ],
      "metadata": {
        "id": "JA7bGbmhql4a"
      }
    },
    {
      "cell_type": "code",
      "source": [
        "df = df[df['TIME'] < 2024]"
      ],
      "metadata": {
        "id": "W5Cmh1GOXA0H"
      },
      "execution_count": 44,
      "outputs": []
    },
    {
      "cell_type": "code",
      "source": [
        "df = df.drop(columns = ['INDICATOR', 'index', 'Flag Codes', 'FREQUENCY'])"
      ],
      "metadata": {
        "id": "8BATQ_8_cApQ"
      },
      "execution_count": 45,
      "outputs": []
    },
    {
      "cell_type": "code",
      "source": [
        "dfBrazil = df.loc[(df['LOCATION'] == 'BRA')]\n",
        "display(dfBrazil)"
      ],
      "metadata": {
        "colab": {
          "base_uri": "https://localhost:8080/",
          "height": 423
        },
        "id": "K5vv5EH2UANA",
        "outputId": "6aabd3c0-ac94-403b-ee10-22796a6dd6b1"
      },
      "execution_count": 46,
      "outputs": [
        {
          "output_type": "display_data",
          "data": {
            "text/plain": [
              "      LOCATION  SUBJECT   MEASURE  TIME     Value\n",
              "756        BRA     RICE  TONNE_HA  1990  1.183770\n",
              "757        BRA     RICE  TONNE_HA  1991  1.496360\n",
              "758        BRA     RICE  TONNE_HA  1992  1.439968\n",
              "759        BRA     RICE  TONNE_HA  1993  1.537312\n",
              "760        BRA     RICE  TONNE_HA  1994  1.601090\n",
              "...        ...      ...       ...   ...       ...\n",
              "20210      BRA  SOYBEAN  TONNE_HA  2019  3.122795\n",
              "20211      BRA  SOYBEAN  TONNE_HA  2020  3.149576\n",
              "20212      BRA  SOYBEAN  TONNE_HA  2021  3.180483\n",
              "20213      BRA  SOYBEAN  TONNE_HA  2022  3.212163\n",
              "20214      BRA  SOYBEAN  TONNE_HA  2023  3.229253\n",
              "\n",
              "[408 rows x 5 columns]"
            ],
            "text/html": [
              "\n",
              "  <div id=\"df-a0308506-36d7-44df-85ab-abed4c161794\" class=\"colab-df-container\">\n",
              "    <div>\n",
              "<style scoped>\n",
              "    .dataframe tbody tr th:only-of-type {\n",
              "        vertical-align: middle;\n",
              "    }\n",
              "\n",
              "    .dataframe tbody tr th {\n",
              "        vertical-align: top;\n",
              "    }\n",
              "\n",
              "    .dataframe thead th {\n",
              "        text-align: right;\n",
              "    }\n",
              "</style>\n",
              "<table border=\"1\" class=\"dataframe\">\n",
              "  <thead>\n",
              "    <tr style=\"text-align: right;\">\n",
              "      <th></th>\n",
              "      <th>LOCATION</th>\n",
              "      <th>SUBJECT</th>\n",
              "      <th>MEASURE</th>\n",
              "      <th>TIME</th>\n",
              "      <th>Value</th>\n",
              "    </tr>\n",
              "  </thead>\n",
              "  <tbody>\n",
              "    <tr>\n",
              "      <th>756</th>\n",
              "      <td>BRA</td>\n",
              "      <td>RICE</td>\n",
              "      <td>TONNE_HA</td>\n",
              "      <td>1990</td>\n",
              "      <td>1.183770</td>\n",
              "    </tr>\n",
              "    <tr>\n",
              "      <th>757</th>\n",
              "      <td>BRA</td>\n",
              "      <td>RICE</td>\n",
              "      <td>TONNE_HA</td>\n",
              "      <td>1991</td>\n",
              "      <td>1.496360</td>\n",
              "    </tr>\n",
              "    <tr>\n",
              "      <th>758</th>\n",
              "      <td>BRA</td>\n",
              "      <td>RICE</td>\n",
              "      <td>TONNE_HA</td>\n",
              "      <td>1992</td>\n",
              "      <td>1.439968</td>\n",
              "    </tr>\n",
              "    <tr>\n",
              "      <th>759</th>\n",
              "      <td>BRA</td>\n",
              "      <td>RICE</td>\n",
              "      <td>TONNE_HA</td>\n",
              "      <td>1993</td>\n",
              "      <td>1.537312</td>\n",
              "    </tr>\n",
              "    <tr>\n",
              "      <th>760</th>\n",
              "      <td>BRA</td>\n",
              "      <td>RICE</td>\n",
              "      <td>TONNE_HA</td>\n",
              "      <td>1994</td>\n",
              "      <td>1.601090</td>\n",
              "    </tr>\n",
              "    <tr>\n",
              "      <th>...</th>\n",
              "      <td>...</td>\n",
              "      <td>...</td>\n",
              "      <td>...</td>\n",
              "      <td>...</td>\n",
              "      <td>...</td>\n",
              "    </tr>\n",
              "    <tr>\n",
              "      <th>20210</th>\n",
              "      <td>BRA</td>\n",
              "      <td>SOYBEAN</td>\n",
              "      <td>TONNE_HA</td>\n",
              "      <td>2019</td>\n",
              "      <td>3.122795</td>\n",
              "    </tr>\n",
              "    <tr>\n",
              "      <th>20211</th>\n",
              "      <td>BRA</td>\n",
              "      <td>SOYBEAN</td>\n",
              "      <td>TONNE_HA</td>\n",
              "      <td>2020</td>\n",
              "      <td>3.149576</td>\n",
              "    </tr>\n",
              "    <tr>\n",
              "      <th>20212</th>\n",
              "      <td>BRA</td>\n",
              "      <td>SOYBEAN</td>\n",
              "      <td>TONNE_HA</td>\n",
              "      <td>2021</td>\n",
              "      <td>3.180483</td>\n",
              "    </tr>\n",
              "    <tr>\n",
              "      <th>20213</th>\n",
              "      <td>BRA</td>\n",
              "      <td>SOYBEAN</td>\n",
              "      <td>TONNE_HA</td>\n",
              "      <td>2022</td>\n",
              "      <td>3.212163</td>\n",
              "    </tr>\n",
              "    <tr>\n",
              "      <th>20214</th>\n",
              "      <td>BRA</td>\n",
              "      <td>SOYBEAN</td>\n",
              "      <td>TONNE_HA</td>\n",
              "      <td>2023</td>\n",
              "      <td>3.229253</td>\n",
              "    </tr>\n",
              "  </tbody>\n",
              "</table>\n",
              "<p>408 rows × 5 columns</p>\n",
              "</div>\n",
              "    <div class=\"colab-df-buttons\">\n",
              "\n",
              "  <div class=\"colab-df-container\">\n",
              "    <button class=\"colab-df-convert\" onclick=\"convertToInteractive('df-a0308506-36d7-44df-85ab-abed4c161794')\"\n",
              "            title=\"Convert this dataframe to an interactive table.\"\n",
              "            style=\"display:none;\">\n",
              "\n",
              "  <svg xmlns=\"http://www.w3.org/2000/svg\" height=\"24px\" viewBox=\"0 -960 960 960\">\n",
              "    <path d=\"M120-120v-720h720v720H120Zm60-500h600v-160H180v160Zm220 220h160v-160H400v160Zm0 220h160v-160H400v160ZM180-400h160v-160H180v160Zm440 0h160v-160H620v160ZM180-180h160v-160H180v160Zm440 0h160v-160H620v160Z\"/>\n",
              "  </svg>\n",
              "    </button>\n",
              "\n",
              "  <style>\n",
              "    .colab-df-container {\n",
              "      display:flex;\n",
              "      gap: 12px;\n",
              "    }\n",
              "\n",
              "    .colab-df-convert {\n",
              "      background-color: #E8F0FE;\n",
              "      border: none;\n",
              "      border-radius: 50%;\n",
              "      cursor: pointer;\n",
              "      display: none;\n",
              "      fill: #1967D2;\n",
              "      height: 32px;\n",
              "      padding: 0 0 0 0;\n",
              "      width: 32px;\n",
              "    }\n",
              "\n",
              "    .colab-df-convert:hover {\n",
              "      background-color: #E2EBFA;\n",
              "      box-shadow: 0px 1px 2px rgba(60, 64, 67, 0.3), 0px 1px 3px 1px rgba(60, 64, 67, 0.15);\n",
              "      fill: #174EA6;\n",
              "    }\n",
              "\n",
              "    .colab-df-buttons div {\n",
              "      margin-bottom: 4px;\n",
              "    }\n",
              "\n",
              "    [theme=dark] .colab-df-convert {\n",
              "      background-color: #3B4455;\n",
              "      fill: #D2E3FC;\n",
              "    }\n",
              "\n",
              "    [theme=dark] .colab-df-convert:hover {\n",
              "      background-color: #434B5C;\n",
              "      box-shadow: 0px 1px 3px 1px rgba(0, 0, 0, 0.15);\n",
              "      filter: drop-shadow(0px 1px 2px rgba(0, 0, 0, 0.3));\n",
              "      fill: #FFFFFF;\n",
              "    }\n",
              "  </style>\n",
              "\n",
              "    <script>\n",
              "      const buttonEl =\n",
              "        document.querySelector('#df-a0308506-36d7-44df-85ab-abed4c161794 button.colab-df-convert');\n",
              "      buttonEl.style.display =\n",
              "        google.colab.kernel.accessAllowed ? 'block' : 'none';\n",
              "\n",
              "      async function convertToInteractive(key) {\n",
              "        const element = document.querySelector('#df-a0308506-36d7-44df-85ab-abed4c161794');\n",
              "        const dataTable =\n",
              "          await google.colab.kernel.invokeFunction('convertToInteractive',\n",
              "                                                    [key], {});\n",
              "        if (!dataTable) return;\n",
              "\n",
              "        const docLinkHtml = 'Like what you see? Visit the ' +\n",
              "          '<a target=\"_blank\" href=https://colab.research.google.com/notebooks/data_table.ipynb>data table notebook</a>'\n",
              "          + ' to learn more about interactive tables.';\n",
              "        element.innerHTML = '';\n",
              "        dataTable['output_type'] = 'display_data';\n",
              "        await google.colab.output.renderOutput(dataTable, element);\n",
              "        const docLink = document.createElement('div');\n",
              "        docLink.innerHTML = docLinkHtml;\n",
              "        element.appendChild(docLink);\n",
              "      }\n",
              "    </script>\n",
              "  </div>\n",
              "\n",
              "\n",
              "<div id=\"df-e670cc60-e61c-485f-b37f-05ec4696f34b\">\n",
              "  <button class=\"colab-df-quickchart\" onclick=\"quickchart('df-e670cc60-e61c-485f-b37f-05ec4696f34b')\"\n",
              "            title=\"Suggest charts\"\n",
              "            style=\"display:none;\">\n",
              "\n",
              "<svg xmlns=\"http://www.w3.org/2000/svg\" height=\"24px\"viewBox=\"0 0 24 24\"\n",
              "     width=\"24px\">\n",
              "    <g>\n",
              "        <path d=\"M19 3H5c-1.1 0-2 .9-2 2v14c0 1.1.9 2 2 2h14c1.1 0 2-.9 2-2V5c0-1.1-.9-2-2-2zM9 17H7v-7h2v7zm4 0h-2V7h2v10zm4 0h-2v-4h2v4z\"/>\n",
              "    </g>\n",
              "</svg>\n",
              "  </button>\n",
              "\n",
              "<style>\n",
              "  .colab-df-quickchart {\n",
              "      --bg-color: #E8F0FE;\n",
              "      --fill-color: #1967D2;\n",
              "      --hover-bg-color: #E2EBFA;\n",
              "      --hover-fill-color: #174EA6;\n",
              "      --disabled-fill-color: #AAA;\n",
              "      --disabled-bg-color: #DDD;\n",
              "  }\n",
              "\n",
              "  [theme=dark] .colab-df-quickchart {\n",
              "      --bg-color: #3B4455;\n",
              "      --fill-color: #D2E3FC;\n",
              "      --hover-bg-color: #434B5C;\n",
              "      --hover-fill-color: #FFFFFF;\n",
              "      --disabled-bg-color: #3B4455;\n",
              "      --disabled-fill-color: #666;\n",
              "  }\n",
              "\n",
              "  .colab-df-quickchart {\n",
              "    background-color: var(--bg-color);\n",
              "    border: none;\n",
              "    border-radius: 50%;\n",
              "    cursor: pointer;\n",
              "    display: none;\n",
              "    fill: var(--fill-color);\n",
              "    height: 32px;\n",
              "    padding: 0;\n",
              "    width: 32px;\n",
              "  }\n",
              "\n",
              "  .colab-df-quickchart:hover {\n",
              "    background-color: var(--hover-bg-color);\n",
              "    box-shadow: 0 1px 2px rgba(60, 64, 67, 0.3), 0 1px 3px 1px rgba(60, 64, 67, 0.15);\n",
              "    fill: var(--button-hover-fill-color);\n",
              "  }\n",
              "\n",
              "  .colab-df-quickchart-complete:disabled,\n",
              "  .colab-df-quickchart-complete:disabled:hover {\n",
              "    background-color: var(--disabled-bg-color);\n",
              "    fill: var(--disabled-fill-color);\n",
              "    box-shadow: none;\n",
              "  }\n",
              "\n",
              "  .colab-df-spinner {\n",
              "    border: 2px solid var(--fill-color);\n",
              "    border-color: transparent;\n",
              "    border-bottom-color: var(--fill-color);\n",
              "    animation:\n",
              "      spin 1s steps(1) infinite;\n",
              "  }\n",
              "\n",
              "  @keyframes spin {\n",
              "    0% {\n",
              "      border-color: transparent;\n",
              "      border-bottom-color: var(--fill-color);\n",
              "      border-left-color: var(--fill-color);\n",
              "    }\n",
              "    20% {\n",
              "      border-color: transparent;\n",
              "      border-left-color: var(--fill-color);\n",
              "      border-top-color: var(--fill-color);\n",
              "    }\n",
              "    30% {\n",
              "      border-color: transparent;\n",
              "      border-left-color: var(--fill-color);\n",
              "      border-top-color: var(--fill-color);\n",
              "      border-right-color: var(--fill-color);\n",
              "    }\n",
              "    40% {\n",
              "      border-color: transparent;\n",
              "      border-right-color: var(--fill-color);\n",
              "      border-top-color: var(--fill-color);\n",
              "    }\n",
              "    60% {\n",
              "      border-color: transparent;\n",
              "      border-right-color: var(--fill-color);\n",
              "    }\n",
              "    80% {\n",
              "      border-color: transparent;\n",
              "      border-right-color: var(--fill-color);\n",
              "      border-bottom-color: var(--fill-color);\n",
              "    }\n",
              "    90% {\n",
              "      border-color: transparent;\n",
              "      border-bottom-color: var(--fill-color);\n",
              "    }\n",
              "  }\n",
              "</style>\n",
              "\n",
              "  <script>\n",
              "    async function quickchart(key) {\n",
              "      const quickchartButtonEl =\n",
              "        document.querySelector('#' + key + ' button');\n",
              "      quickchartButtonEl.disabled = true;  // To prevent multiple clicks.\n",
              "      quickchartButtonEl.classList.add('colab-df-spinner');\n",
              "      try {\n",
              "        const charts = await google.colab.kernel.invokeFunction(\n",
              "            'suggestCharts', [key], {});\n",
              "      } catch (error) {\n",
              "        console.error('Error during call to suggestCharts:', error);\n",
              "      }\n",
              "      quickchartButtonEl.classList.remove('colab-df-spinner');\n",
              "      quickchartButtonEl.classList.add('colab-df-quickchart-complete');\n",
              "    }\n",
              "    (() => {\n",
              "      let quickchartButtonEl =\n",
              "        document.querySelector('#df-e670cc60-e61c-485f-b37f-05ec4696f34b button');\n",
              "      quickchartButtonEl.style.display =\n",
              "        google.colab.kernel.accessAllowed ? 'block' : 'none';\n",
              "    })();\n",
              "  </script>\n",
              "</div>\n",
              "    </div>\n",
              "  </div>\n"
            ]
          },
          "metadata": {}
        }
      ]
    },
    {
      "cell_type": "markdown",
      "source": [
        "##Subdividindo o DF"
      ],
      "metadata": {
        "id": "hmsGSem0qsA0"
      }
    },
    {
      "cell_type": "code",
      "source": [
        "dfBrasilRice = dfBrazil.loc[(dfBrazil['SUBJECT'] == 'RICE')]\n",
        "dfBrasilSoy = dfBrazil.loc[(dfBrazil['SUBJECT'] == 'SOYBEAN')]\n",
        "dfBrasilWheat = dfBrazil.loc[(dfBrazil['SUBJECT'] == 'WHEAT')] #Trigo\n",
        "dfBrasilMaize = dfBrazil.loc[(dfBrazil['SUBJECT'] == 'MAIZE')] #Milho"
      ],
      "metadata": {
        "id": "JEsqPgN1VqUy"
      },
      "execution_count": 47,
      "outputs": []
    },
    {
      "cell_type": "code",
      "source": [
        "dfBrasilRiceTONNE_HA = dfBrasilRice.loc[(dfBrasilRice['MEASURE'] == 'TONNE_HA')]\n",
        "dfBrasilRiceTHND_TONNE  = dfBrasilRice.loc[(dfBrasilRice['MEASURE'] == 'THND_TONNE')]\n",
        "dfBrasilRiceTHND_HA  = dfBrasilRice.loc[(dfBrasilRice['MEASURE'] == 'THND_HA')]"
      ],
      "metadata": {
        "id": "RUDjtAKRdbZl"
      },
      "execution_count": 48,
      "outputs": []
    },
    {
      "cell_type": "code",
      "source": [
        "dfBrasilSoyTONNE_HA = dfBrasilSoy.loc[(dfBrasilSoy['MEASURE'] == 'TONNE_HA')]\n",
        "dfBrasilSoyTHND_TONNE  = dfBrasilSoy.loc[(dfBrasilSoy['MEASURE'] == 'THND_TONNE')]\n",
        "dfBrasilSoyTHND_HA  = dfBrasilSoy.loc[(dfBrasilSoy['MEASURE'] == 'THND_HA')]"
      ],
      "metadata": {
        "id": "9-BMrYR5enpd"
      },
      "execution_count": 50,
      "outputs": []
    },
    {
      "cell_type": "code",
      "source": [
        "dfBrasilWheatTONNE_HA = dfBrasilWheat.loc[(dfBrasilWheat['MEASURE'] == 'TONNE_HA')]\n",
        "dfBrasilWheatTHND_TONNE  = dfBrasilWheat.loc[(dfBrasilWheat['MEASURE'] == 'THND_TONNE')]\n",
        "dfBrasilWheatTHND_HA  = dfBrasilWheat.loc[(dfBrasilWheat['MEASURE'] == 'THND_HA')]"
      ],
      "metadata": {
        "id": "zkXKAXwCrLdA"
      },
      "execution_count": 64,
      "outputs": []
    },
    {
      "cell_type": "markdown",
      "source": [
        "##Gráficos"
      ],
      "metadata": {
        "id": "g7D4SAYXqxzn"
      }
    },
    {
      "cell_type": "markdown",
      "source": [
        "###Arroz"
      ],
      "metadata": {
        "id": "zmSfBhrar-yW"
      }
    },
    {
      "cell_type": "code",
      "source": [
        "plt.scatter(dfBrasilRiceTONNE_HA['TIME'], dfBrasilRiceTONNE_HA['Value'])\n",
        "plt.grid(True)\n",
        "plt.ylabel('Toneladas por hectar')\n",
        "plt.xlabel('Ano')\n",
        "plt.title('Produção Brasileira de Arroz por Hectar')"
      ],
      "metadata": {
        "colab": {
          "base_uri": "https://localhost:8080/",
          "height": 489
        },
        "id": "7KRlTzcEaBqA",
        "outputId": "d6a73df9-544c-4d5e-ccd2-80324442699b"
      },
      "execution_count": 67,
      "outputs": [
        {
          "output_type": "execute_result",
          "data": {
            "text/plain": [
              "Text(0.5, 1.0, 'Produção Brasileira de Arroz por Hectar')"
            ]
          },
          "metadata": {},
          "execution_count": 67
        },
        {
          "output_type": "display_data",
          "data": {
            "text/plain": [
              "<Figure size 640x480 with 1 Axes>"
            ],
            "image/png": "[encoded data removed]"
          },
          "metadata": {}
        }
      ]
    },
    {
      "cell_type": "code",
      "source": [
        "plt.scatter(dfBrasilRiceTHND_TONNE['TIME'], dfBrasilRiceTHND_TONNE['Value'])\n",
        "plt.grid(True)\n",
        "plt.ylabel('Milhares de Toneladas')\n",
        "plt.xlabel('Ano')\n",
        "plt.title('Produção Brasileira de Arroz por Toneladas')"
      ],
      "metadata": {
        "colab": {
          "base_uri": "https://localhost:8080/",
          "height": 489
        },
        "id": "hIljY0QMe4Vm",
        "outputId": "7905471a-d84b-47f4-b33b-b5dc2a145e3d"
      },
      "execution_count": 69,
      "outputs": [
        {
          "output_type": "execute_result",
          "data": {
            "text/plain": [
              "Text(0.5, 1.0, 'Produção Brasileira de Arroz por Toneladas')"
            ]
          },
          "metadata": {},
          "execution_count": 69
        },
        {
          "output_type": "display_data",
          "data": {
            "text/plain": [
              "<Figure size 640x480 with 1 Axes>"
            ],
            "image/png": "[encoded data removed]"
          },
          "metadata": {}
        }
      ]
    },
    {
      "cell_type": "code",
      "source": [
        "plt.scatter(dfBrasilRiceTHND_HA['TIME'], dfBrasilRiceTHND_HA['Value'])\n",
        "plt.grid(True)\n",
        "plt.ylabel('Milhares de hectares')\n",
        "plt.xlabel('Ano')\n",
        "plt.title('Quantidade de Hectares para Produção Brasileira de Arroz')"
      ],
      "metadata": {
        "colab": {
          "base_uri": "https://localhost:8080/",
          "height": 489
        },
        "id": "i2TEy2JMfARg",
        "outputId": "bfcc0789-fcbe-416f-93d8-99d65920a57a"
      },
      "execution_count": 70,
      "outputs": [
        {
          "output_type": "execute_result",
          "data": {
            "text/plain": [
              "Text(0.5, 1.0, 'Quantidade de Hectares para Produção Brasileira de Arroz')"
            ]
          },
          "metadata": {},
          "execution_count": 70
        },
        {
          "output_type": "display_data",
          "data": {
            "text/plain": [
              "<Figure size 640x480 with 1 Axes>"
            ],
            "image/png": "[encoded data removed]"
          },
          "metadata": {}
        }
      ]
    },
    {
      "cell_type": "markdown",
      "source": [
        "###Trigo"
      ],
      "metadata": {
        "id": "78bsg4DuGVq2"
      }
    },
    {
      "cell_type": "code",
      "source": [
        "plt.scatter(dfBrasilWheatTONNE_HA['TIME'], dfBrasilWheatTONNE_HA['Value'])\n",
        "plt.grid(True)\n",
        "plt.ylabel('Toneladas por hectar')\n",
        "plt.xlabel('Ano')\n",
        "plt.title('Produção Brasileira de Trigo por Hectar')"
      ],
      "metadata": {
        "colab": {
          "base_uri": "https://localhost:8080/",
          "height": 489
        },
        "id": "tHVyVJ6IGcp0",
        "outputId": "cb818413-3944-47b6-f80d-526ea1c6dbf6"
      },
      "execution_count": 71,
      "outputs": [
        {
          "output_type": "execute_result",
          "data": {
            "text/plain": [
              "Text(0.5, 1.0, 'Produção Brasileira de Trigo por Hectar')"
            ]
          },
          "metadata": {},
          "execution_count": 71
        },
        {
          "output_type": "display_data",
          "data": {
            "text/plain": [
              "<Figure size 640x480 with 1 Axes>"
            ],
            "image/png": "[encoded data removed]"
          },
          "metadata": {}
        }
      ]
    },
    {
      "cell_type": "code",
      "source": [
        "plt.scatter(dfBrasilWheatTHND_TONNE['TIME'], dfBrasilWheatTHND_TONNE['Value'])\n",
        "plt.grid(True)\n",
        "plt.ylabel('Milhares de Toneladas')\n",
        "plt.xlabel('Ano')\n",
        "plt.title('Produção Brasileira de Trigo por Toneladas')"
      ],
      "metadata": {
        "colab": {
          "base_uri": "https://localhost:8080/",
          "height": 489
        },
        "id": "G6JLIzdsG0sj",
        "outputId": "16cfa682-c2ed-4534-ee97-159fd576d914"
      },
      "execution_count": 72,
      "outputs": [
        {
          "output_type": "execute_result",
          "data": {
            "text/plain": [
              "Text(0.5, 1.0, 'Produção Brasileira de Trigo por Toneladas')"
            ]
          },
          "metadata": {},
          "execution_count": 72
        },
        {
          "output_type": "display_data",
          "data": {
            "text/plain": [
              "<Figure size 640x480 with 1 Axes>"
            ],
            "image/png": "[encoded data removed]"
          },
          "metadata": {}
        }
      ]
    },
    {
      "cell_type": "code",
      "source": [
        "plt.scatter(dfBrasilWheatTHND_HA['TIME'], dfBrasilWheatTHND_HA['Value'])\n",
        "plt.grid(True)\n",
        "plt.ylabel('Milhares de hectares')\n",
        "plt.xlabel('Ano')\n",
        "plt.title('Quantidade de Hectares para Produção Brasileira de Trigo')"
      ],
      "metadata": {
        "colab": {
          "base_uri": "https://localhost:8080/",
          "height": 489
        },
        "id": "9vcLGTuZHAx_",
        "outputId": "c1d4a903-59fb-4068-ced9-dd1fdeb79b4a"
      },
      "execution_count": 73,
      "outputs": [
        {
          "output_type": "execute_result",
          "data": {
            "text/plain": [
              "Text(0.5, 1.0, 'Quantidade de Hectares para Produção Brasileira de Trigo')"
            ]
          },
          "metadata": {},
          "execution_count": 73
        },
        {
          "output_type": "display_data",
          "data": {
            "text/plain": [
              "<Figure size 640x480 with 1 Axes>"
            ],
            "image/png": "[encoded data removed]"
          },
          "metadata": {}
        }
      ]
    }
  ]
}