{
 "cells": [
  {
   "cell_type": "code",
   "execution_count": 7,
   "metadata": {},
   "outputs": [],
   "source": [
    "import pandas as pd\n",
    "import numpy as np"
   ]
  },
  {
   "cell_type": "code",
   "execution_count": 8,
   "metadata": {},
   "outputs": [
    {
     "data": {
      "text/html": [
       "<div>\n",
       "<style scoped>\n",
       "    .dataframe tbody tr th:only-of-type {\n",
       "        vertical-align: middle;\n",
       "    }\n",
       "\n",
       "    .dataframe tbody tr th {\n",
       "        vertical-align: top;\n",
       "    }\n",
       "\n",
       "    .dataframe thead th {\n",
       "        text-align: right;\n",
       "    }\n",
       "</style>\n",
       "<table border=\"1\" class=\"dataframe\">\n",
       "  <thead>\n",
       "    <tr style=\"text-align: right;\">\n",
       "      <th></th>\n",
       "      <th>REGIAO</th>\n",
       "      <th>UF</th>\n",
       "      <th>ESTACAO</th>\n",
       "      <th>CODIGO</th>\n",
       "      <th>LATITUDE</th>\n",
       "      <th>LONGITUDE</th>\n",
       "      <th>ALTITUDE</th>\n",
       "    </tr>\n",
       "  </thead>\n",
       "  <tbody>\n",
       "    <tr>\n",
       "      <th>0</th>\n",
       "      <td>N</td>\n",
       "      <td>PA</td>\n",
       "      <td>SANTA MARIA DAS BARREIRAS</td>\n",
       "      <td>A256</td>\n",
       "      <td>-8.729722</td>\n",
       "      <td>-49.856389</td>\n",
       "      <td>165.0</td>\n",
       "    </tr>\n",
       "    <tr>\n",
       "      <th>1</th>\n",
       "      <td>SE</td>\n",
       "      <td>SP</td>\n",
       "      <td>CRIOSFERA</td>\n",
       "      <td>C891</td>\n",
       "      <td>-84.000000</td>\n",
       "      <td>-79.494167</td>\n",
       "      <td>1285.0</td>\n",
       "    </tr>\n",
       "  </tbody>\n",
       "</table>\n",
       "</div>"
      ],
      "text/plain": [
       "  REGIAO  UF                    ESTACAO CODIGO   LATITUDE  LONGITUDE  ALTITUDE\n",
       "0      N  PA  SANTA MARIA DAS BARREIRAS   A256  -8.729722 -49.856389     165.0\n",
       "1     SE  SP                  CRIOSFERA   C891 -84.000000 -79.494167    1285.0"
      ]
     },
     "execution_count": 8,
     "metadata": {},
     "output_type": "execute_result"
    }
   ],
   "source": [
    "# Carregando o dataset que contem o nome dos estados\n",
    "df_estados = pd.read_csv('../data/temp-brazil/automatic_stations_codes_2000_2021.csv', sep=';')\n",
    "df_estados.head(2)"
   ]
  },
  {
   "cell_type": "code",
   "execution_count": 9,
   "metadata": {},
   "outputs": [
    {
     "data": {
      "text/html": [
       "<div>\n",
       "<style scoped>\n",
       "    .dataframe tbody tr th:only-of-type {\n",
       "        vertical-align: middle;\n",
       "    }\n",
       "\n",
       "    .dataframe tbody tr th {\n",
       "        vertical-align: top;\n",
       "    }\n",
       "\n",
       "    .dataframe thead th {\n",
       "        text-align: right;\n",
       "    }\n",
       "</style>\n",
       "<table border=\"1\" class=\"dataframe\">\n",
       "  <thead>\n",
       "    <tr style=\"text-align: right;\">\n",
       "      <th></th>\n",
       "      <th>UF</th>\n",
       "      <th>CODIGO</th>\n",
       "    </tr>\n",
       "  </thead>\n",
       "  <tbody>\n",
       "    <tr>\n",
       "      <th>0</th>\n",
       "      <td>PA</td>\n",
       "      <td>A256</td>\n",
       "    </tr>\n",
       "    <tr>\n",
       "      <th>1</th>\n",
       "      <td>SP</td>\n",
       "      <td>C891</td>\n",
       "    </tr>\n",
       "    <tr>\n",
       "      <th>2</th>\n",
       "      <td>DF</td>\n",
       "      <td>A001</td>\n",
       "    </tr>\n",
       "    <tr>\n",
       "      <th>3</th>\n",
       "      <td>BA</td>\n",
       "      <td>A401</td>\n",
       "    </tr>\n",
       "    <tr>\n",
       "      <th>4</th>\n",
       "      <td>AM</td>\n",
       "      <td>A101</td>\n",
       "    </tr>\n",
       "  </tbody>\n",
       "</table>\n",
       "</div>"
      ],
      "text/plain": [
       "   UF CODIGO\n",
       "0  PA   A256\n",
       "1  SP   C891\n",
       "2  DF   A001\n",
       "3  BA   A401\n",
       "4  AM   A101"
      ]
     },
     "execution_count": 9,
     "metadata": {},
     "output_type": "execute_result"
    }
   ],
   "source": [
    "# Dropando as colunas que não serão utilizadas\n",
    "df_estados = df_estados.drop(columns=['REGIAO', 'LATITUDE', 'LONGITUDE', 'ALTITUDE', 'ESTACAO'])\n",
    "df_estados.head()"
   ]
  },
  {
   "cell_type": "code",
   "execution_count": 6,
   "metadata": {},
   "outputs": [
    {
     "data": {
      "text/html": [
       "<div>\n",
       "<style scoped>\n",
       "    .dataframe tbody tr th:only-of-type {\n",
       "        vertical-align: middle;\n",
       "    }\n",
       "\n",
       "    .dataframe tbody tr th {\n",
       "        vertical-align: top;\n",
       "    }\n",
       "\n",
       "    .dataframe thead th {\n",
       "        text-align: right;\n",
       "    }\n",
       "</style>\n",
       "<table border=\"1\" class=\"dataframe\">\n",
       "  <thead>\n",
       "    <tr style=\"text-align: right;\">\n",
       "      <th></th>\n",
       "      <th>ESTACAO</th>\n",
       "      <th>DATA (YYYY-MM-DD)</th>\n",
       "      <th>HORA (UTC)</th>\n",
       "      <th>TEMPERATURA MAXIMA NA HORA ANT. (AUT) (C)</th>\n",
       "      <th>TEMPERATURA MINIMA NA HORA ANT. (AUT) (C)</th>\n",
       "    </tr>\n",
       "  </thead>\n",
       "  <tbody>\n",
       "    <tr>\n",
       "      <th>0</th>\n",
       "      <td>A001</td>\n",
       "      <td>2021-01-01</td>\n",
       "      <td>0</td>\n",
       "      <td>22.4</td>\n",
       "      <td>20.8</td>\n",
       "    </tr>\n",
       "    <tr>\n",
       "      <th>1</th>\n",
       "      <td>A001</td>\n",
       "      <td>2021-01-01</td>\n",
       "      <td>100</td>\n",
       "      <td>21.1</td>\n",
       "      <td>19.5</td>\n",
       "    </tr>\n",
       "  </tbody>\n",
       "</table>\n",
       "</div>"
      ],
      "text/plain": [
       "  ESTACAO DATA (YYYY-MM-DD)  HORA (UTC)  \\\n",
       "0    A001        2021-01-01           0   \n",
       "1    A001        2021-01-01         100   \n",
       "\n",
       "   TEMPERATURA MAXIMA NA HORA ANT. (AUT) (C)  \\\n",
       "0                                       22.4   \n",
       "1                                       21.1   \n",
       "\n",
       "   TEMPERATURA MINIMA NA HORA ANT. (AUT) (C)  \n",
       "0                                       20.8  \n",
       "1                                       19.5  "
      ]
     },
     "execution_count": 6,
     "metadata": {},
     "output_type": "execute_result"
    }
   ],
   "source": [
    "columns_to_load = ['DATA (YYYY-MM-DD)', 'HORA (UTC)', 'TEMPERATURA MAXIMA NA HORA ANT. (AUT) (C)', 'TEMPERATURA MINIMA NA HORA ANT. (AUT) (C)', 'ESTACAO']\n",
    "df = pd.read_csv('../data/temp-brazil/automatic_weather_stations_inmet_brazil_2000_2021.csv', sep=';',usecols=columns_to_load)\n",
    "df.head(2)"
   ]
  },
  {
   "cell_type": "code",
   "execution_count": 11,
   "metadata": {},
   "outputs": [],
   "source": [
    "# Jutando os dois datasets onde o codigo do df_estados é igual a estacao do df, colocando a uf no df\n",
    "df_merged = df.merge(df_estados, left_on='ESTACAO', right_on='CODIGO', how='left')"
   ]
  },
  {
   "cell_type": "code",
   "execution_count": 12,
   "metadata": {},
   "outputs": [],
   "source": [
    "# Dropando as colunas que não serão utilizadas\n",
    "df_merged = df_merged.drop(columns=['CODIGO', 'ESTACAO'])"
   ]
  },
  {
   "cell_type": "code",
   "execution_count": 13,
   "metadata": {},
   "outputs": [
    {
     "data": {
      "text/html": [
       "<div>\n",
       "<style scoped>\n",
       "    .dataframe tbody tr th:only-of-type {\n",
       "        vertical-align: middle;\n",
       "    }\n",
       "\n",
       "    .dataframe tbody tr th {\n",
       "        vertical-align: top;\n",
       "    }\n",
       "\n",
       "    .dataframe thead th {\n",
       "        text-align: right;\n",
       "    }\n",
       "</style>\n",
       "<table border=\"1\" class=\"dataframe\">\n",
       "  <thead>\n",
       "    <tr style=\"text-align: right;\">\n",
       "      <th></th>\n",
       "      <th>DATA (YYYY-MM-DD)</th>\n",
       "      <th>HORA (UTC)</th>\n",
       "      <th>TEMPERATURA MAXIMA NA HORA ANT. (AUT) (C)</th>\n",
       "      <th>TEMPERATURA MINIMA NA HORA ANT. (AUT) (C)</th>\n",
       "      <th>UF</th>\n",
       "    </tr>\n",
       "  </thead>\n",
       "  <tbody>\n",
       "    <tr>\n",
       "      <th>0</th>\n",
       "      <td>2021-01-01</td>\n",
       "      <td>0</td>\n",
       "      <td>22.4</td>\n",
       "      <td>20.8</td>\n",
       "      <td>DF</td>\n",
       "    </tr>\n",
       "    <tr>\n",
       "      <th>1</th>\n",
       "      <td>2021-01-01</td>\n",
       "      <td>100</td>\n",
       "      <td>21.1</td>\n",
       "      <td>19.5</td>\n",
       "      <td>DF</td>\n",
       "    </tr>\n",
       "  </tbody>\n",
       "</table>\n",
       "</div>"
      ],
      "text/plain": [
       "  DATA (YYYY-MM-DD)  HORA (UTC)  TEMPERATURA MAXIMA NA HORA ANT. (AUT) (C)  \\\n",
       "0        2021-01-01           0                                       22.4   \n",
       "1        2021-01-01         100                                       21.1   \n",
       "\n",
       "   TEMPERATURA MINIMA NA HORA ANT. (AUT) (C)  UF  \n",
       "0                                       20.8  DF  \n",
       "1                                       19.5  DF  "
      ]
     },
     "execution_count": 13,
     "metadata": {},
     "output_type": "execute_result"
    }
   ],
   "source": [
    "df_merged.head(2)"
   ]
  },
  {
   "cell_type": "code",
   "execution_count": 14,
   "metadata": {},
   "outputs": [
    {
     "data": {
      "text/plain": [
       "DATA (YYYY-MM-DD)                             object\n",
       "HORA (UTC)                                     int64\n",
       "TEMPERATURA MAXIMA NA HORA ANT. (AUT) (C)    float64\n",
       "TEMPERATURA MINIMA NA HORA ANT. (AUT) (C)    float64\n",
       "UF                                            object\n",
       "dtype: object"
      ]
     },
     "execution_count": 14,
     "metadata": {},
     "output_type": "execute_result"
    }
   ],
   "source": [
    "# Verificando os tipos de dados\n",
    "df_merged.dtypes"
   ]
  },
  {
   "cell_type": "code",
   "execution_count": 15,
   "metadata": {},
   "outputs": [],
   "source": [
    "# Alterando os dtypes de data para datetime e uf para string\n",
    "df_merged['DATA (YYYY-MM-DD)'] = pd.to_datetime(df_merged['DATA (YYYY-MM-DD)'])\n",
    "df_merged['UF'] = df_merged['UF'].astype(str)"
   ]
  },
  {
   "cell_type": "code",
   "execution_count": 16,
   "metadata": {},
   "outputs": [
    {
     "data": {
      "text/plain": [
       "DATA (YYYY-MM-DD)                            datetime64[ns]\n",
       "HORA (UTC)                                            int64\n",
       "TEMPERATURA MAXIMA NA HORA ANT. (AUT) (C)           float64\n",
       "TEMPERATURA MINIMA NA HORA ANT. (AUT) (C)           float64\n",
       "UF                                                   object\n",
       "dtype: object"
      ]
     },
     "execution_count": 16,
     "metadata": {},
     "output_type": "execute_result"
    }
   ],
   "source": [
    "df_merged.dtypes"
   ]
  },
  {
   "cell_type": "code",
   "execution_count": 29,
   "metadata": {},
   "outputs": [
    {
     "data": {
      "text/html": [
       "<div>\n",
       "<style scoped>\n",
       "    .dataframe tbody tr th:only-of-type {\n",
       "        vertical-align: middle;\n",
       "    }\n",
       "\n",
       "    .dataframe tbody tr th {\n",
       "        vertical-align: top;\n",
       "    }\n",
       "\n",
       "    .dataframe thead th {\n",
       "        text-align: right;\n",
       "    }\n",
       "</style>\n",
       "<table border=\"1\" class=\"dataframe\">\n",
       "  <thead>\n",
       "    <tr style=\"text-align: right;\">\n",
       "      <th></th>\n",
       "      <th>DATA (YYYY-MM-DD)</th>\n",
       "      <th>HORA (UTC)</th>\n",
       "      <th>TEMPERATURA MAXIMA NA HORA ANT. (AUT) (C)</th>\n",
       "      <th>TEMPERATURA MINIMA NA HORA ANT. (AUT) (C)</th>\n",
       "      <th>UF</th>\n",
       "    </tr>\n",
       "  </thead>\n",
       "  <tbody>\n",
       "    <tr>\n",
       "      <th>0</th>\n",
       "      <td>2021-01-01</td>\n",
       "      <td>0</td>\n",
       "      <td>22.4</td>\n",
       "      <td>20.8</td>\n",
       "      <td>DF</td>\n",
       "    </tr>\n",
       "    <tr>\n",
       "      <th>1</th>\n",
       "      <td>2021-01-01</td>\n",
       "      <td>100</td>\n",
       "      <td>21.1</td>\n",
       "      <td>19.5</td>\n",
       "      <td>DF</td>\n",
       "    </tr>\n",
       "    <tr>\n",
       "      <th>2</th>\n",
       "      <td>2021-01-01</td>\n",
       "      <td>200</td>\n",
       "      <td>21.4</td>\n",
       "      <td>19.6</td>\n",
       "      <td>DF</td>\n",
       "    </tr>\n",
       "    <tr>\n",
       "      <th>3</th>\n",
       "      <td>2021-01-01</td>\n",
       "      <td>300</td>\n",
       "      <td>20.1</td>\n",
       "      <td>19.3</td>\n",
       "      <td>DF</td>\n",
       "    </tr>\n",
       "    <tr>\n",
       "      <th>4</th>\n",
       "      <td>2021-01-01</td>\n",
       "      <td>400</td>\n",
       "      <td>19.4</td>\n",
       "      <td>18.6</td>\n",
       "      <td>DF</td>\n",
       "    </tr>\n",
       "  </tbody>\n",
       "</table>\n",
       "</div>"
      ],
      "text/plain": [
       "  DATA (YYYY-MM-DD)  HORA (UTC)  TEMPERATURA MAXIMA NA HORA ANT. (AUT) (C)  \\\n",
       "0        2021-01-01           0                                       22.4   \n",
       "1        2021-01-01         100                                       21.1   \n",
       "2        2021-01-01         200                                       21.4   \n",
       "3        2021-01-01         300                                       20.1   \n",
       "4        2021-01-01         400                                       19.4   \n",
       "\n",
       "   TEMPERATURA MINIMA NA HORA ANT. (AUT) (C)  UF  \n",
       "0                                       20.8  DF  \n",
       "1                                       19.5  DF  \n",
       "2                                       19.6  DF  \n",
       "3                                       19.3  DF  \n",
       "4                                       18.6  DF  "
      ]
     },
     "execution_count": 29,
     "metadata": {},
     "output_type": "execute_result"
    }
   ],
   "source": [
    "df_average = df_merged.copy()\n",
    "df_average.head()"
   ]
  },
  {
   "cell_type": "code",
   "execution_count": 30,
   "metadata": {},
   "outputs": [],
   "source": [
    "# Criando uma coluna com a média anual da temperatura para cada estado\n",
    "df_average['mean'] = df_average.groupby(['UF', df_average['DATA (YYYY-MM-DD)'].dt.year])['TEMPERATURA MAXIMA NA HORA ANT. (AUT) (C)'].transform('mean')"
   ]
  },
  {
   "cell_type": "code",
   "execution_count": 34,
   "metadata": {},
   "outputs": [],
   "source": [
    "# Criando a coluna ano a partir da coluna data\n",
    "df_average['ano'] = df_average['DATA (YYYY-MM-DD)'].dt.year\n",
    "\n",
    "#Dropando duplicados\n",
    "df_average = df_average.drop_duplicates(subset=['UF', 'ano'])"
   ]
  },
  {
   "cell_type": "code",
   "execution_count": 36,
   "metadata": {},
   "outputs": [],
   "source": [
    "# Dropando colunas desnecessarias\n",
    "df_average = df_average.drop(columns=['DATA (YYYY-MM-DD)', 'HORA (UTC)', 'TEMPERATURA MAXIMA NA HORA ANT. (AUT) (C)', 'TEMPERATURA MINIMA NA HORA ANT. (AUT) (C)'])"
   ]
  },
  {
   "cell_type": "code",
   "execution_count": 37,
   "metadata": {},
   "outputs": [
    {
     "data": {
      "text/plain": [
       "UF      0\n",
       "mean    0\n",
       "ano     0\n",
       "dtype: int64"
      ]
     },
     "execution_count": 37,
     "metadata": {},
     "output_type": "execute_result"
    }
   ],
   "source": [
    "# Verificando dados faltantes]\n",
    "df_average.isnull().sum()"
   ]
  },
  {
   "cell_type": "code",
   "execution_count": 38,
   "metadata": {},
   "outputs": [
    {
     "data": {
      "text/plain": [
       "0"
      ]
     },
     "execution_count": 38,
     "metadata": {},
     "output_type": "execute_result"
    }
   ],
   "source": [
    "# Verificando os dados duplicados\n",
    "df_average.duplicated().sum()"
   ]
  },
  {
   "cell_type": "code",
   "execution_count": null,
   "metadata": {},
   "outputs": [],
   "source": [
    "# Dropando os dados duplicados\n",
    "df_average = df_average.drop_duplicates()"
   ]
  },
  {
   "cell_type": "code",
   "execution_count": 41,
   "metadata": {},
   "outputs": [
    {
     "data": {
      "text/plain": [
       "array([2021, 2020, 2000, 2001, 2002, 2003, 2004, 2005, 2006, 2007, 2008,\n",
       "       2009, 2010, 2011, 2012, 2013, 2014, 2015, 2016, 2017, 2018, 2019])"
      ]
     },
     "execution_count": 41,
     "metadata": {},
     "output_type": "execute_result"
    }
   ],
   "source": [
    "#verificando os anos unicos\n",
    "df_average['ano'].unique()"
   ]
  },
  {
   "cell_type": "code",
   "execution_count": null,
   "metadata": {},
   "outputs": [],
   "source": [
    "# ordenando os dados por ano\n",
    "df_average = df_average.sort_values(by='ano')\n"
   ]
  },
  {
   "cell_type": "code",
   "execution_count": 43,
   "metadata": {},
   "outputs": [
    {
     "data": {
      "text/html": [
       "<div>\n",
       "<style scoped>\n",
       "    .dataframe tbody tr th:only-of-type {\n",
       "        vertical-align: middle;\n",
       "    }\n",
       "\n",
       "    .dataframe tbody tr th {\n",
       "        vertical-align: top;\n",
       "    }\n",
       "\n",
       "    .dataframe thead th {\n",
       "        text-align: right;\n",
       "    }\n",
       "</style>\n",
       "<table border=\"1\" class=\"dataframe\">\n",
       "  <thead>\n",
       "    <tr style=\"text-align: right;\">\n",
       "      <th></th>\n",
       "      <th>UF</th>\n",
       "      <th>media</th>\n",
       "      <th>ano</th>\n",
       "    </tr>\n",
       "  </thead>\n",
       "  <tbody>\n",
       "    <tr>\n",
       "      <th>0</th>\n",
       "      <td>DF</td>\n",
       "      <td>23.22</td>\n",
       "      <td>2021</td>\n",
       "    </tr>\n",
       "    <tr>\n",
       "      <th>3720</th>\n",
       "      <td>GO</td>\n",
       "      <td>25.23</td>\n",
       "      <td>2021</td>\n",
       "    </tr>\n",
       "    <tr>\n",
       "      <th>23064</th>\n",
       "      <td>MS</td>\n",
       "      <td>25.89</td>\n",
       "      <td>2021</td>\n",
       "    </tr>\n",
       "    <tr>\n",
       "      <th>56544</th>\n",
       "      <td>MT</td>\n",
       "      <td>25.77</td>\n",
       "      <td>2021</td>\n",
       "    </tr>\n",
       "    <tr>\n",
       "      <th>84072</th>\n",
       "      <td>AL</td>\n",
       "      <td>27.49</td>\n",
       "      <td>2021</td>\n",
       "    </tr>\n",
       "  </tbody>\n",
       "</table>\n",
       "</div>"
      ],
      "text/plain": [
       "       UF  media   ano\n",
       "0      DF  23.22  2021\n",
       "3720   GO  25.23  2021\n",
       "23064  MS  25.89  2021\n",
       "56544  MT  25.77  2021\n",
       "84072  AL  27.49  2021"
      ]
     },
     "execution_count": 43,
     "metadata": {},
     "output_type": "execute_result"
    }
   ],
   "source": [
    "# Deixando somente dois numeros apos o ponto na media\n",
    "df_average['mean'] = df_average['mean'].apply(lambda x: round(x, 2))\n",
    "\n",
    "#alterando o nome da coluna mean para media\n",
    "df_average = df_average.rename(columns={'mean': 'media'})\n",
    "\n",
    "df_average.head()"
   ]
  },
  {
   "cell_type": "code",
   "execution_count": 44,
   "metadata": {},
   "outputs": [],
   "source": [
    "# Salvando em um csv\n",
    "df_average.to_csv('../data/prepareted-data/average_temp_brazil.csv', index=False)"
   ]
  },
  {
   "cell_type": "code",
   "execution_count": null,
   "metadata": {},
   "outputs": [],
   "source": []
  }
 ],
 "metadata": {
  "kernelspec": {
   "display_name": "Python 3",
   "language": "python",
   "name": "python3"
  },
  "language_info": {
   "codemirror_mode": {
    "name": "ipython",
    "version": 3
   },
   "file_extension": ".py",
   "mimetype": "text/x-python",
   "name": "python",
   "nbconvert_exporter": "python",
   "pygments_lexer": "ipython3",
   "version": "3.11.4"
  }
 },
 "nbformat": 4,
 "nbformat_minor": 2
}
